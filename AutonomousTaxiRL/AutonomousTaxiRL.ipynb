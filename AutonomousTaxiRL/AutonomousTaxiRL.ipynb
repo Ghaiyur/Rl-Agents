{
 "cells": [
  {
   "cell_type": "code",
   "execution_count": 106,
   "id": "229054d0",
   "metadata": {},
   "outputs": [],
   "source": [
    "### Import the Libs\n",
    "import gym\n",
    "import numpy as np\n",
    "import random\n",
    "import time\n",
    "import matplotlib.pyplot as plt\n",
    "from IPython.display import clear_output"
   ]
  },
  {
   "cell_type": "code",
   "execution_count": 107,
   "metadata": {},
   "outputs": [],
   "source": [
    "## Algo capable of traning on other env as well , uncomment to try something other than Taxi-v3\n",
    "# env = gym.make(\"Taxi-v3\")\n",
    "# env = gym.make(\"Blackjack-v0\")\n",
    "# env = gym.make(\"FrozenLake-v0\")\n",
    "env = gym.make(\"FrozenLake8x8-v0\")\n"
   ]
  },
  {
   "cell_type": "code",
   "execution_count": 108,
   "metadata": {
    "tags": []
   },
   "outputs": [
    {
     "output_type": "stream",
     "name": "stdout",
     "text": [
      "Episode: 9\nScore: 0.0\nInfo: {'prob': 0.3333333333333333}\n"
     ]
    }
   ],
   "source": [
    "episodes = 10\n",
    "for episode in range(1,episodes):\n",
    "    state = env.reset()\n",
    "    done = False\n",
    "    score = 0\n",
    "\n",
    "    while not done:\n",
    "        env.render()\n",
    "        state, reward, done, info = env.step(env.action_space.sample())\n",
    "        score += reward\n",
    "        clear_output(wait=True)\n",
    "    print('Episode: {}\\nScore: {}\\nInfo: {}'.format(episode, score, info ))\n",
    "\n",
    "env.close()\n"
   ]
  },
  {
   "cell_type": "code",
   "execution_count": 109,
   "metadata": {},
   "outputs": [
    {
     "output_type": "display_data",
     "data": {
      "text/plain": "array([[0., 0., 0., 0.],\n       [0., 0., 0., 0.],\n       [0., 0., 0., 0.],\n       [0., 0., 0., 0.],\n       [0., 0., 0., 0.],\n       [0., 0., 0., 0.],\n       [0., 0., 0., 0.],\n       [0., 0., 0., 0.],\n       [0., 0., 0., 0.],\n       [0., 0., 0., 0.],\n       [0., 0., 0., 0.],\n       [0., 0., 0., 0.],\n       [0., 0., 0., 0.],\n       [0., 0., 0., 0.],\n       [0., 0., 0., 0.],\n       [0., 0., 0., 0.],\n       [0., 0., 0., 0.],\n       [0., 0., 0., 0.],\n       [0., 0., 0., 0.],\n       [0., 0., 0., 0.],\n       [0., 0., 0., 0.],\n       [0., 0., 0., 0.],\n       [0., 0., 0., 0.],\n       [0., 0., 0., 0.],\n       [0., 0., 0., 0.],\n       [0., 0., 0., 0.],\n       [0., 0., 0., 0.],\n       [0., 0., 0., 0.],\n       [0., 0., 0., 0.],\n       [0., 0., 0., 0.],\n       [0., 0., 0., 0.],\n       [0., 0., 0., 0.],\n       [0., 0., 0., 0.],\n       [0., 0., 0., 0.],\n       [0., 0., 0., 0.],\n       [0., 0., 0., 0.],\n       [0., 0., 0., 0.],\n       [0., 0., 0., 0.],\n       [0., 0., 0., 0.],\n       [0., 0., 0., 0.],\n       [0., 0., 0., 0.],\n       [0., 0., 0., 0.],\n       [0., 0., 0., 0.],\n       [0., 0., 0., 0.],\n       [0., 0., 0., 0.],\n       [0., 0., 0., 0.],\n       [0., 0., 0., 0.],\n       [0., 0., 0., 0.],\n       [0., 0., 0., 0.],\n       [0., 0., 0., 0.],\n       [0., 0., 0., 0.],\n       [0., 0., 0., 0.],\n       [0., 0., 0., 0.],\n       [0., 0., 0., 0.],\n       [0., 0., 0., 0.],\n       [0., 0., 0., 0.],\n       [0., 0., 0., 0.],\n       [0., 0., 0., 0.],\n       [0., 0., 0., 0.],\n       [0., 0., 0., 0.],\n       [0., 0., 0., 0.],\n       [0., 0., 0., 0.],\n       [0., 0., 0., 0.],\n       [0., 0., 0., 0.]])"
     },
     "metadata": {}
    }
   ],
   "source": [
    "### Creating Q-Table\n",
    "actions = env.action_space.n\n",
    "state = env.observation_space.n\n",
    "\n",
    "q_table = np.zeros((state, actions))\n",
    "display(q_table)"
   ]
  },
  {
   "cell_type": "code",
   "execution_count": 110,
   "metadata": {},
   "outputs": [],
   "source": [
    "### Parameters for QL\n",
    "num_episodes = 10000\n",
    "max_steps_per_episode = 100\n",
    "\n",
    "learning_rate = 0.1\n",
    "discount_rate = 0.99\n",
    "\n",
    "exploration_rate = 1\n",
    "max_exploration_rate = 1 \n",
    "min_exploration_rate = 0.01\n",
    "exploration_decay_rate = 0.001\n",
    "\n",
    "rewards_all_episodes = []"
   ]
  },
  {
   "cell_type": "code",
   "execution_count": 91,
   "metadata": {
    "tags": []
   },
   "outputs": [
    {
     "output_type": "stream",
     "name": "stdout",
     "text": [
      "*** Training Finished ***\n"
     ]
    }
   ],
   "source": [
    "## Q-Learning Algo\n",
    "\n",
    "for episode in range(num_episodes):\n",
    "    state = env.reset()\n",
    "    done = False\n",
    "    rewards_current_episode = 0 \n",
    "    # print('*** Training Started for {} ***'.format(episode))\n",
    "\n",
    "    for step in range(max_steps_per_episode):\n",
    "\n",
    "        ## Exploration vs Exploitation trade-off\n",
    "        exploration_threshold = random.uniform(0, 1)\n",
    "        if exploration_threshold > exploration_rate:\n",
    "            action = np.argmax(q_table[state,:])\n",
    "        else:\n",
    "            action = env.action_space.sample()\n",
    "\n",
    "        new_state, reward, done, info = env.step(action)\n",
    "\n",
    "        #Update Q-table\n",
    "        q_table[state, action] = q_table[state, action] * (1 - learning_rate) + learning_rate * (reward + discount_rate * np.max(q_table[new_state,:]))\n",
    "\n",
    "        state = new_state\n",
    "        rewards_current_episode += reward\n",
    "        # print('***Current Reward: {}'.format(rewards_current_episode))\n",
    "        if done == True:\n",
    "            break\n",
    "    \n",
    "    exploration_rate = min_exploration_rate + (max_exploration_rate - min_exploration_rate) * np.exp(-exploration_decay_rate * episode)\n",
    "\n",
    "    rewards_all_episodes.append(rewards_current_episode)\n",
    "\n",
    "print('*** Training Finished ***')\n",
    "\n",
    "        "
   ]
  },
  {
   "cell_type": "code",
   "execution_count": 92,
   "metadata": {},
   "outputs": [
    {
     "output_type": "display_data",
     "data": {
      "text/plain": "array([[0.50160264, 0.49299999, 0.49270535, 0.49014222],\n       [0.38014087, 0.359192  , 0.37672186, 0.47033758],\n       [0.40299792, 0.39113008, 0.40359998, 0.44378756],\n       [0.3827346 , 0.31298947, 0.22344276, 0.43466582],\n       [0.52779986, 0.31066929, 0.31899786, 0.33493881],\n       [0.        , 0.        , 0.        , 0.        ],\n       [0.33385096, 0.08837472, 0.19850115, 0.14630365],\n       [0.        , 0.        , 0.        , 0.        ],\n       [0.2880314 , 0.51194434, 0.49598902, 0.5699752 ],\n       [0.43231944, 0.61663472, 0.50830982, 0.4678196 ],\n       [0.58865212, 0.35860015, 0.41580887, 0.35109429],\n       [0.        , 0.        , 0.        , 0.        ],\n       [0.        , 0.        , 0.        , 0.        ],\n       [0.44088582, 0.54985403, 0.69185728, 0.50217613],\n       [0.71626403, 0.79093869, 0.76701011, 0.73111078],\n       [0.        , 0.        , 0.        , 0.        ]])"
     },
     "metadata": {}
    }
   ],
   "source": [
    "### Qtable post train\n",
    "display(q_table)"
   ]
  },
  {
   "cell_type": "code",
   "execution_count": 73,
   "metadata": {
    "tags": []
   },
   "outputs": [
    {
     "output_type": "stream",
     "name": "stdout",
     "text": [
      "Average per thousand episodes\n1000  : -136.70100000000008\n2000  : -8.77399999999998\n3000  : 2.7829999999999897\n4000  : 5.737999999999967\n5000  : 6.576999999999964\n6000  : 7.456999999999966\n7000  : 7.482999999999965\n8000  : 7.412999999999957\n9000  : 7.466999999999963\n10000  : 7.303999999999961\n"
     ]
    }
   ],
   "source": [
    "### Calculate and print avg rewards per thousand eps\n",
    "\n",
    "rewards_per_thousand_episodes = np.split(np.array(rewards_all_episodes), num_episodes/1000)\n",
    "count = 1000\n",
    "\n",
    "print('Average per thousand episodes')\n",
    "for r in rewards_per_thousand_episodes:\n",
    "    print(count ,' : ' + str(sum(r/1000)))\n",
    "    count+= 1000"
   ]
  },
  {
   "cell_type": "code",
   "execution_count": 94,
   "metadata": {},
   "outputs": [
    {
     "output_type": "stream",
     "name": "stdout",
     "text": [
      "  (Down)\n",
      "SFFF\n",
      "FHFH\n",
      "FFFH\n",
      "HFF\u001b[41mG\u001b[0m\n",
      "*** Reached Goal ***\n"
     ]
    }
   ],
   "source": [
    "### Viz Agent \n",
    "\n",
    "for episode in range(3):\n",
    "    state = env.reset()\n",
    "    done = False\n",
    "    print('Episode is ',episode)\n",
    "    time.sleep(0.4)\n",
    "\n",
    "    for step in range(max_steps_per_episode):\n",
    "        env.render()\n",
    "        clear_output(wait=True)\n",
    "\n",
    "        action = np.argmax(q_table[state, :])\n",
    "        time.sleep(0.4)\n",
    "\n",
    "        new_state, reward, done, info = env.step(action)\n",
    "\n",
    "        if done:\n",
    "            clear_output(wait=True)\n",
    "            env.render()\n",
    "            time.sleep(0.4)\n",
    "            if reward == 1:\n",
    "                print('*** Reached Goal ***')\n",
    "                clear_output(wait=True)\n",
    "                time.sleep(0.4)\n",
    "            else:\n",
    "                print('*** Failed ***')\n",
    "                clear_output(wait=True)\n",
    "                time.sleep(0.4)\n",
    "            break\n",
    "        state = new_state\n",
    "env.close()\n"
   ]
  }
 ],
 "metadata": {
  "kernelspec": {
   "name": "python3",
   "display_name": "Python 3.9.1 64-bit"
  },
  "language_info": {
   "codemirror_mode": {
    "name": "ipython",
    "version": 3
   },
   "file_extension": ".py",
   "mimetype": "text/x-python",
   "name": "python",
   "nbconvert_exporter": "python",
   "pygments_lexer": "ipython3",
   "version": "3.9.1"
  },
  "interpreter": {
   "hash": "63fd5069d213b44bf678585dea6b12cceca9941eaf7f819626cde1f2670de90d"
  }
 },
 "nbformat": 4,
 "nbformat_minor": 5
}