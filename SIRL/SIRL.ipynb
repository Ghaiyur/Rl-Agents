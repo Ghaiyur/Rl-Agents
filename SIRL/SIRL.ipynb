{
 "cells": [
  {
   "cell_type": "code",
   "execution_count": 1,
   "id": "52fff52a",
   "metadata": {},
   "outputs": [],
   "source": [
    "import gym"
   ]
  },
  {
   "cell_type": "code",
   "execution_count": 2,
   "id": "83813d89",
   "metadata": {},
   "outputs": [],
   "source": [
    "env = gym.make('SpaceInvaders-v0')"
   ]
  },
  {
   "cell_type": "markdown",
   "id": "03d40de9",
   "metadata": {},
   "source": [
    "### Random Agent"
   ]
  },
  {
   "cell_type": "code",
   "execution_count": 3,
   "id": "8765cbd0",
   "metadata": {
    "scrolled": false
   },
   "outputs": [
    {
     "name": "stdout",
     "output_type": "stream",
     "text": [
      "Episode : 1\n",
      "Score: 135.0\n",
      "Info: {'ale.lives': 0}\n",
      "Episode : 2\n",
      "Score: 105.0\n",
      "Info: {'ale.lives': 0}\n",
      "Episode : 3\n",
      "Score: 130.0\n",
      "Info: {'ale.lives': 0}\n",
      "Episode : 4\n",
      "Score: 135.0\n",
      "Info: {'ale.lives': 0}\n",
      "Episode : 5\n",
      "Score: 45.0\n",
      "Info: {'ale.lives': 0}\n",
      "Episode : 6\n",
      "Score: 20.0\n",
      "Info: {'ale.lives': 0}\n",
      "Episode : 7\n",
      "Score: 45.0\n",
      "Info: {'ale.lives': 0}\n",
      "Episode : 8\n",
      "Score: 65.0\n",
      "Info: {'ale.lives': 0}\n",
      "Episode : 9\n",
      "Score: 185.0\n",
      "Info: {'ale.lives': 0}\n"
     ]
    }
   ],
   "source": [
    "episodes = 10\n",
    "\n",
    "for episode in range(1, episodes):\n",
    "    state = env.reset()\n",
    "    done = False\n",
    "    score = 0 \n",
    "    \n",
    "    while not done:\n",
    "        env.render()\n",
    "        state, reward, done, info=env.step(env.action_space.sample())\n",
    "        score += reward\n",
    "    print('Episode : {}\\nScore: {}\\nInfo: {}'.format(episode,score,info))\n",
    "    \n",
    "env.close()"
   ]
  },
  {
   "cell_type": "markdown",
   "id": "434a78fe",
   "metadata": {},
   "source": [
    "### DQNA"
   ]
  },
  {
   "cell_type": "code",
   "execution_count": 4,
   "id": "4ebd5dc8",
   "metadata": {},
   "outputs": [],
   "source": [
    "#### Import NN Packs\n",
    "import numpy as np\n",
    "from tensorflow.keras.models import Sequential\n",
    "from tensorflow.keras.layers import Dense,Flatten,Conv2D\n",
    "from tensorflow.keras.optimizers import Adam\n",
    "from tensorflow.python.framework.ops import disable_eager_execution\n",
    "disable_eager_execution()"
   ]
  },
  {
   "cell_type": "code",
   "execution_count": 29,
   "id": "ef3b72c2",
   "metadata": {},
   "outputs": [],
   "source": [
    "def Bmodel(height, width, channels, actions):\n",
    "    model = Sequential()\n",
    "    model.add(Conv2D(32, (8,8), strides=(4,4), activation='relu', input_shape=(3, height, width, channels)))\n",
    "    model.add(Conv2D(64, (4,4), strides=(2,2), activation='relu'))\n",
    "    model.add(Conv2D(64, (4,4), strides=(2,2), activation='relu'))\n",
    "    model.add(Conv2D(64, (4,4), strides=(2,2), activation='relu'))\n",
    "    model.add(Flatten())\n",
    "    model.add(Dense(512, activation='relu'))\n",
    "    model.add(Dense(256, activation='relu'))\n",
    "    model.add(Dense(64, activation='relu'))\n",
    "    model.add(Dense(actions, activation='linear'))\n",
    "    return model\n",
    "    "
   ]
  },
  {
   "cell_type": "code",
   "execution_count": 30,
   "id": "1291af74",
   "metadata": {},
   "outputs": [],
   "source": [
    "height, width, channels = env.observation_space.shape\n",
    "actions = env.action_space.n"
   ]
  },
  {
   "cell_type": "code",
   "execution_count": 31,
   "id": "8c8c98a6",
   "metadata": {},
   "outputs": [],
   "source": [
    "model = Bmodel(height, width, channels, actions)"
   ]
  },
  {
   "cell_type": "code",
   "execution_count": 32,
   "id": "7c1899de",
   "metadata": {},
   "outputs": [],
   "source": [
    "#### Importing Keras-rl2\n",
    "\n",
    "from rl.agents import DQNAgent\n",
    "from rl.memory import SequentialMemory\n",
    "from rl.policy import LinearAnnealedPolicy, EpsGreedyQPolicy"
   ]
  },
  {
   "cell_type": "code",
   "execution_count": 33,
   "id": "63b0afcd",
   "metadata": {},
   "outputs": [],
   "source": [
    "def Bagent(model, actions):\n",
    "    policy = LinearAnnealedPolicy(EpsGreedyQPolicy(), attr='eps', value_max=1., value_min=.1, value_test=.2 ,nb_steps=9999)\n",
    "    memory = SequentialMemory(limit=99999, window_length=3)\n",
    "    dqn = DQNAgent(model=model, memory=memory, policy=policy,\n",
    "                   nb_actions = actions, enable_dueling_network=True, \n",
    "                   nb_steps_warmup=9999)\n",
    "    return dqn"
   ]
  },
  {
   "cell_type": "code",
   "execution_count": 34,
   "id": "53837bfb",
   "metadata": {},
   "outputs": [],
   "source": [
    "dqn = Bagent(model, actions)"
   ]
  },
  {
   "cell_type": "code",
   "execution_count": 35,
   "id": "1d93ff79",
   "metadata": {},
   "outputs": [],
   "source": [
    "dqn.compile(Adam(learning_rate=0.00001))"
   ]
  },
  {
   "cell_type": "code",
   "execution_count": 36,
   "id": "9cb9a345",
   "metadata": {},
   "outputs": [
    {
     "name": "stdout",
     "output_type": "stream",
     "text": [
      "Training for 99999 steps ...\n",
      "Interval 1 (0 steps performed)\n",
      "\r",
      "    1/10000 [..............................] - ETA: 22:26 - reward: 0.0000e+00"
     ]
    },
    {
     "name": "stderr",
     "output_type": "stream",
     "text": [
      "c:\\users\\ghaiyur\\documents\\rl-agents\\sirl\\env\\lib\\site-packages\\tensorflow\\python\\keras\\engine\\training.py:2426: UserWarning: `Model.state_updates` will be removed in a future version. This property should not be used in TensorFlow 2.0, as `updates` are applied automatically.\n",
      "  warnings.warn('`Model.state_updates` will be removed in a future version. '\n"
     ]
    },
    {
     "name": "stdout",
     "output_type": "stream",
     "text": [
      "10000/10000 [==============================] - 125s 12ms/step - reward: 0.1910\n",
      "15 episodes - episode_reward: 124.000 [55.000, 210.000] - ale.lives: 2.150\n",
      "\n",
      "Interval 2 (10000 steps performed)\n",
      "10000/10000 [==============================] - 6473s 647ms/step - reward: 0.1840\n",
      "15 episodes - episode_reward: 119.333 [10.000, 230.000] - loss: 0.989 - mean_q: 3.072 - mean_eps: 0.100 - ale.lives: 1.930\n",
      "\n",
      "Interval 3 (20000 steps performed)\n",
      "   44/10000 [..............................] - ETA: 1:45:55 - reward: 0.3409done, took 6626.367 seconds\n"
     ]
    },
    {
     "data": {
      "text/plain": [
       "<tensorflow.python.keras.callbacks.History at 0x1d515c7b850>"
      ]
     },
     "execution_count": 36,
     "metadata": {},
     "output_type": "execute_result"
    }
   ],
   "source": [
    "dqn.fit(env, nb_steps=99999, visualize=False ,verbose=1)"
   ]
  },
  {
   "cell_type": "code",
   "execution_count": 37,
   "id": "e8594a56",
   "metadata": {},
   "outputs": [
    {
     "name": "stdout",
     "output_type": "stream",
     "text": [
      "Testing for 50 episodes ...\n",
      "Episode 1: reward: 130.000, steps: 1011\n",
      "Episode 2: reward: 115.000, steps: 764\n",
      "Episode 3: reward: 305.000, steps: 935\n",
      "Episode 4: reward: 35.000, steps: 495\n",
      "Episode 5: reward: 60.000, steps: 682\n",
      "Episode 6: reward: 225.000, steps: 1298\n",
      "Episode 7: reward: 395.000, steps: 1443\n",
      "Episode 8: reward: 25.000, steps: 412\n",
      "Episode 9: reward: 420.000, steps: 1128\n",
      "Episode 10: reward: 90.000, steps: 698\n",
      "Episode 11: reward: 55.000, steps: 1054\n",
      "Episode 12: reward: 45.000, steps: 608\n",
      "Episode 13: reward: 15.000, steps: 570\n",
      "Episode 14: reward: 180.000, steps: 844\n",
      "Episode 15: reward: 240.000, steps: 1064\n",
      "Episode 16: reward: 350.000, steps: 995\n",
      "Episode 17: reward: 235.000, steps: 1157\n",
      "Episode 18: reward: 65.000, steps: 571\n",
      "Episode 19: reward: 200.000, steps: 960\n",
      "Episode 20: reward: 450.000, steps: 1659\n",
      "Episode 21: reward: 245.000, steps: 883\n",
      "Episode 22: reward: 235.000, steps: 1006\n",
      "Episode 23: reward: 40.000, steps: 683\n",
      "Episode 24: reward: 215.000, steps: 805\n",
      "Episode 25: reward: 35.000, steps: 361\n",
      "Episode 26: reward: 505.000, steps: 1160\n",
      "Episode 27: reward: 125.000, steps: 484\n",
      "Episode 28: reward: 125.000, steps: 678\n",
      "Episode 29: reward: 15.000, steps: 393\n",
      "Episode 30: reward: 115.000, steps: 617\n",
      "Episode 31: reward: 85.000, steps: 668\n",
      "Episode 32: reward: 60.000, steps: 707\n",
      "Episode 33: reward: 35.000, steps: 538\n",
      "Episode 34: reward: 60.000, steps: 455\n",
      "Episode 35: reward: 285.000, steps: 993\n",
      "Episode 36: reward: 105.000, steps: 1036\n",
      "Episode 37: reward: 285.000, steps: 938\n",
      "Episode 38: reward: 150.000, steps: 994\n",
      "Episode 39: reward: 85.000, steps: 605\n",
      "Episode 40: reward: 35.000, steps: 594\n",
      "Episode 41: reward: 95.000, steps: 664\n",
      "Episode 42: reward: 105.000, steps: 941\n",
      "Episode 43: reward: 155.000, steps: 1009\n",
      "Episode 44: reward: 195.000, steps: 706\n",
      "Episode 45: reward: 45.000, steps: 485\n",
      "Episode 46: reward: 350.000, steps: 1142\n",
      "Episode 47: reward: 315.000, steps: 718\n",
      "Episode 48: reward: 95.000, steps: 661\n",
      "Episode 49: reward: 170.000, steps: 1063\n",
      "Episode 50: reward: 40.000, steps: 510\n",
      "160.8\n"
     ]
    }
   ],
   "source": [
    "scores = dqn.test(env, nb_episodes=50, visualize=False)\n",
    "print(np.mean(scores.history['episode_reward']))"
   ]
  },
  {
   "cell_type": "code",
   "execution_count": 38,
   "id": "6c3ce8fb",
   "metadata": {},
   "outputs": [],
   "source": [
    "dqn.save_weights('models/dqn.h5f')"
   ]
  },
  {
   "cell_type": "code",
   "execution_count": null,
   "id": "fbf21df4",
   "metadata": {},
   "outputs": [],
   "source": [
    "# dqn.load_weights('models/dqn.h5f')"
   ]
  }
 ],
 "metadata": {
  "kernelspec": {
   "display_name": "Python 3 (ipykernel)",
   "language": "python",
   "name": "python3"
  },
  "language_info": {
   "codemirror_mode": {
    "name": "ipython",
    "version": 3
   },
   "file_extension": ".py",
   "mimetype": "text/x-python",
   "name": "python",
   "nbconvert_exporter": "python",
   "pygments_lexer": "ipython3",
   "version": "3.9.1"
  }
 },
 "nbformat": 4,
 "nbformat_minor": 5
}
